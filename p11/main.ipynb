{
 "cells": [
  {
   "cell_type": "code",
   "execution_count": 11,
   "metadata": {},
   "outputs": [],
   "source": [
    "# project: p11\n",
    "# submitter: essenter\n",
    "# partner: puri6"
   ]
  },
  {
   "cell_type": "code",
   "execution_count": 12,
   "metadata": {},
   "outputs": [],
   "source": [
    "import os, json, csv, collections\n",
    "%matplotlib inline\n",
    "import pandas as pd\n",
    "def scatter(x, y, xlabel=\"please label me!\", ylabel=\"please label me!\"):\n",
    "    df = pd.DataFrame({\"x\":x, \"y\":y})\n",
    "    ax = df.plot.scatter(x=\"x\", y=\"y\", color=\"black\", fontsize=16, xlim=0, ylim=0)\n",
    "    ax.set_xlabel(xlabel, fontsize=16)\n",
    "    ax.set_ylabel(ylabel, fontsize=16)\n",
    "    ax.get_xaxis().get_major_formatter().set_scientific(False)\n",
    "    ax.get_yaxis().get_major_formatter().set_scientific(False)"
   ]
  },
  {
   "cell_type": "code",
   "execution_count": 13,
   "metadata": {},
   "outputs": [
    {
     "data": {
      "text/plain": [
       "['meta.info',\n",
       " 'agency_info',\n",
       " '5.json',\n",
       " '5.csv',\n",
       " '4.json',\n",
       " '4.csv',\n",
       " '3.json',\n",
       " '3.csv',\n",
       " '2.json',\n",
       " '2.csv',\n",
       " '1.json',\n",
       " '1.csv']"
      ]
     },
     "execution_count": 13,
     "metadata": {},
     "output_type": "execute_result"
    }
   ],
   "source": [
    "Tweet = collections.namedtuple('Tweet', 'tweet_id username num_liked length')\n",
    "full_data_dir = sorted(os.listdir(\"full_data\"), reverse = True)\n",
    "full_data_dir"
   ]
  },
  {
   "cell_type": "code",
   "execution_count": 14,
   "metadata": {},
   "outputs": [],
   "source": [
    "def LoadTweets(folder):\n",
    "    tuples = []\n",
    "    for file in full_data_dir:\n",
    "        name, extension = os.path.splitext(file)\n",
    "        if 'json' in extension:\n",
    "            try:\n",
    "                f = open(os.path.join(folder, file))\n",
    "                data = json.load(f)\n",
    "                f.close\n",
    "                for row_dict in data:\n",
    "                    tweet_id = row_dict\n",
    "                    try:\n",
    "                        tuples.append(Tweet(tweet_id, data[row_dict]['username'], int(data[row_dict]['num_liked']), len(data[row_dict]['tweet_text'])))\n",
    "                    except:\n",
    "                        try:\n",
    "                            tuples.append(Tweet(tweet_id, data[row_dict]['username'], str(data[row_dict]['num_liked']), len(data[row_dict]['tweet_text'])))\n",
    "                        except:\n",
    "                            pass\n",
    "            except:\n",
    "                pass\n",
    "        if 'csv' in extension:\n",
    "            try:\n",
    "                f = open(os.path.join(folder, file))\n",
    "                reader = csv.DictReader(f)\n",
    "                f.close\n",
    "                for row_dict in reader:\n",
    "                    try:\n",
    "                        tuples.append(Tweet(row_dict['tweet_id'], row_dict['username'], int(row_dict['num_liked']), len(row_dict['tweet_text'])))\n",
    "                    except:\n",
    "                        try:\n",
    "                            if len(row_dict['num_liked']) < 7:\n",
    "                                tuples.append(Tweet(row_dict['tweet_id'], row_dict['username'], str(row_dict['num_liked']), len(row_dict['tweet_text'])))\n",
    "                        except:\n",
    "                            pass\n",
    "            except:\n",
    "                pass\n",
    "    return tuples"
   ]
  },
  {
   "cell_type": "code",
   "execution_count": 15,
   "metadata": {},
   "outputs": [
    {
     "data": {
      "text/plain": [
       "445"
      ]
     },
     "execution_count": 15,
     "metadata": {},
     "output_type": "execute_result"
    }
   ],
   "source": [
    "#q1\n",
    "\n",
    "full_data_tweets = LoadTweets(\"full_data\")\n",
    "len(full_data_tweets)"
   ]
  },
  {
   "cell_type": "code",
   "execution_count": 16,
   "metadata": {},
   "outputs": [
    {
     "data": {
      "text/plain": [
       "{'USERID_1',\n",
       " 'USERID_10',\n",
       " 'USERID_2',\n",
       " 'USERID_3',\n",
       " 'USERID_4',\n",
       " 'USERID_5',\n",
       " 'USERID_6',\n",
       " 'USERID_7',\n",
       " 'USERID_8',\n",
       " 'USERID_9'}"
      ]
     },
     "execution_count": 16,
     "metadata": {},
     "output_type": "execute_result"
    }
   ],
   "source": [
    "#q2\n",
    "\n",
    "username_set = set()\n",
    "for tweet in full_data_tweets:\n",
    "    username_set.add(tweet[1])\n",
    "username_set"
   ]
  },
  {
   "cell_type": "code",
   "execution_count": 17,
   "metadata": {},
   "outputs": [
    {
     "data": {
      "text/plain": [
       "{'USERID_9': 44,\n",
       " 'USERID_3': 39,\n",
       " 'USERID_2': 47,\n",
       " 'USERID_7': 55,\n",
       " 'USERID_5': 46,\n",
       " 'USERID_1': 52,\n",
       " 'USERID_4': 35,\n",
       " 'USERID_10': 45,\n",
       " 'USERID_8': 31,\n",
       " 'USERID_6': 51}"
      ]
     },
     "execution_count": 17,
     "metadata": {},
     "output_type": "execute_result"
    }
   ],
   "source": [
    "#q3\n",
    "\n",
    "prolific_dict = {}\n",
    "for user in username_set:\n",
    "    prolific_dict[user] = 0\n",
    "for tweet in full_data_tweets:\n",
    "    prolific_dict[tweet[1]] += 1\n",
    "prolific_dict"
   ]
  },
  {
   "cell_type": "code",
   "execution_count": 18,
   "metadata": {},
   "outputs": [
    {
     "data": {
      "text/plain": [
       "{'USERID_9': 9728,\n",
       " 'USERID_3': 9678,\n",
       " 'USERID_2': 869000000,\n",
       " 'USERID_7': 9851,\n",
       " 'USERID_5': 9608,\n",
       " 'USERID_1': 9393,\n",
       " 'USERID_4': 9618,\n",
       " 'USERID_10': 9936,\n",
       " 'USERID_8': 915000,\n",
       " 'USERID_6': 9149}"
      ]
     },
     "execution_count": 18,
     "metadata": {},
     "output_type": "execute_result"
    }
   ],
   "source": [
    "#q4\n",
    "\n",
    "def find_most_liked(username):\n",
    "    current_highest = 0\n",
    "    letters = ['m', 'k']\n",
    "    for tweet in full_data_tweets:\n",
    "        try:\n",
    "            num_liked = int(tweet[2])\n",
    "        except:\n",
    "            if tweet[2][-1].lower() == 'm':\n",
    "                num_liked = int(tweet[2][:-1]) * 1000000\n",
    "            if tweet[2][-1].lower() == 'k':\n",
    "                num_liked = int(tweet[2][:-1]) * 1000                      \n",
    "        if tweet[1] == username:\n",
    "            if num_liked > current_highest:\n",
    "                current_highest = num_liked\n",
    "    return current_highest\n",
    "\n",
    "most_liked_dict = {}\n",
    "for user in username_set:\n",
    "    most_liked_dict[user] = find_most_liked(user)\n",
    "most_liked_dict  "
   ]
  },
  {
   "cell_type": "code",
   "execution_count": 19,
   "metadata": {},
   "outputs": [
    {
     "data": {
      "text/plain": [
       "{'USERID_9': 137,\n",
       " 'USERID_3': 138,\n",
       " 'USERID_2': 138,\n",
       " 'USERID_7': 144,\n",
       " 'USERID_5': 146,\n",
       " 'USERID_1': 150,\n",
       " 'USERID_4': 138,\n",
       " 'USERID_10': 136,\n",
       " 'USERID_8': 145,\n",
       " 'USERID_6': 145}"
      ]
     },
     "execution_count": 19,
     "metadata": {},
     "output_type": "execute_result"
    }
   ],
   "source": [
    "#q5\n",
    "\n",
    "def find_longest_tweet(username):\n",
    "    current_highest = 0\n",
    "    for tweet in full_data_tweets:\n",
    "        if tweet[1] == username:\n",
    "            if tweet[3] > current_highest:\n",
    "                current_highest = tweet[3]\n",
    "    return current_highest\n",
    "longest_tweet_dict = {}\n",
    "for user in username_set:\n",
    "    longest_tweet_dict[user] = find_longest_tweet(user)\n",
    "longest_tweet_dict"
   ]
  },
  {
   "cell_type": "code",
   "execution_count": 20,
   "metadata": {},
   "outputs": [
    {
     "data": {
      "image/png": "[encoded data removed]",
      "text/plain": [
       "<Figure size 432x288 with 1 Axes>"
      ]
     },
     "metadata": {
      "needs_background": "light"
     },
     "output_type": "display_data"
    }
   ],
   "source": [
    "#q6\n",
    "\n",
    "scatter(prolific_dict,\n",
    "        longest_tweet_dict,\n",
    "        xlabel=\"Number of tweets\", ylabel=\"Longest length\")"
   ]
  },
  {
   "cell_type": "code",
   "execution_count": 21,
   "metadata": {},
   "outputs": [
    {
     "data": {
      "image/png": "[encoded data removed]",
      "text/plain": [
       "<Figure size 432x288 with 1 Axes>"
      ]
     },
     "metadata": {
      "needs_background": "light"
     },
     "output_type": "display_data"
    }
   ],
   "source": [
    "#q7\n",
    "\n",
    "scatter(prolific_dict,\n",
    "        most_liked_dict,\n",
    "        xlabel=\"Number of tweets\", ylabel=\"Largest likes\")"
   ]
  },
  {
   "cell_type": "code",
   "execution_count": 22,
   "metadata": {},
   "outputs": [
    {
     "data": {
      "image/png": "[encoded data removed]",
      "text/plain": [
       "<Figure size 432x288 with 1 Axes>"
      ]
     },
     "metadata": {
      "needs_background": "light"
     },
     "output_type": "display_data"
    }
   ],
   "source": [
    "#q8\n",
    "\n",
    "scatter(longest_tweet_dict,\n",
    "        most_liked_dict,\n",
    "        xlabel=\"Longest Length\", ylabel=\"Largest likes\")"
   ]
  },
  {
   "cell_type": "code",
   "execution_count": 2,
   "metadata": {},
   "outputs": [
    {
     "ename": "NameError",
     "evalue": "name 'username_set' is not defined",
     "output_type": "error",
     "traceback": [
      "\u001b[1;31m---------------------------------------------------------------------------\u001b[0m",
      "\u001b[1;31mNameError\u001b[0m                                 Traceback (most recent call last)",
      "\u001b[1;32m<ipython-input-2-c21afb66cbeb>\u001b[0m in \u001b[0;36m<module>\u001b[1;34m\u001b[0m\n\u001b[0;32m      1\u001b[0m \u001b[1;31m#q9\u001b[0m\u001b[1;33m\u001b[0m\u001b[1;33m\u001b[0m\u001b[1;33m\u001b[0m\u001b[0m\n\u001b[0;32m      2\u001b[0m \u001b[1;33m\u001b[0m\u001b[0m\n\u001b[1;32m----> 3\u001b[1;33m \u001b[1;32mfor\u001b[0m \u001b[0muser\u001b[0m \u001b[1;32min\u001b[0m \u001b[0musername_set\u001b[0m\u001b[1;33m:\u001b[0m\u001b[1;33m\u001b[0m\u001b[1;33m\u001b[0m\u001b[0m\n\u001b[0m\u001b[0;32m      4\u001b[0m     \u001b[1;32mif\u001b[0m \u001b[0mmost_liked_dict\u001b[0m\u001b[1;33m[\u001b[0m\u001b[0muser\u001b[0m\u001b[1;33m]\u001b[0m \u001b[1;33m>\u001b[0m \u001b[1;36m2000000\u001b[0m\u001b[1;33m:\u001b[0m\u001b[1;33m\u001b[0m\u001b[1;33m\u001b[0m\u001b[0m\n\u001b[0;32m      5\u001b[0m         \u001b[0moutlier\u001b[0m \u001b[1;33m=\u001b[0m \u001b[0muser\u001b[0m\u001b[1;33m\u001b[0m\u001b[1;33m\u001b[0m\u001b[0m\n",
      "\u001b[1;31mNameError\u001b[0m: name 'username_set' is not defined"
     ]
    }
   ],
   "source": [
    "#q9\n",
    "\n",
    "for user in username_set:\n",
    "    if most_liked_dict[user] > 2000000:\n",
    "        outlier = user\n",
    "outlier = None\n",
    "highest = 0\n",
    "for user in username_set:\n",
    "    if most_liked_dict[user] > highest:\n",
    "        highest = most_liked_dict[user]\n",
    "        outlier = user\n",
    "outlier"
   ]
  },
  {
   "cell_type": "code",
   "execution_count": 24,
   "metadata": {},
   "outputs": [
    {
     "data": {
      "text/plain": [
       "[Tweet(tweet_id='1467894593', username='USERID_2', num_liked='869M', length=136),\n",
       " Tweet(tweet_id='1467875163', username='USERID_2', num_liked=9891, length=69),\n",
       " Tweet(tweet_id='1467862806', username='USERID_2', num_liked=9465, length=68),\n",
       " Tweet(tweet_id='1467907751', username='USERID_2', num_liked=9048, length=110),\n",
       " Tweet(tweet_id='1467928764', username='USERID_2', num_liked=9026, length=41),\n",
       " Tweet(tweet_id='1467943007', username='USERID_2', num_liked=9000, length=130),\n",
       " Tweet(tweet_id='1467918682', username='USERID_2', num_liked=8884, length=102),\n",
       " Tweet(tweet_id='1467935121', username='USERID_2', num_liked=8740, length=37),\n",
       " Tweet(tweet_id='1467947913', username='USERID_2', num_liked=8578, length=36),\n",
       " Tweet(tweet_id='1467892667', username='USERID_2', num_liked=8270, length=20),\n",
       " Tweet(tweet_id='1467897316', username='USERID_2', num_liked=7890, length=64),\n",
       " Tweet(tweet_id='1467854917', username='USERID_2', num_liked=7741, length=30),\n",
       " Tweet(tweet_id='1467961106', username='USERID_2', num_liked=7552, length=65),\n",
       " Tweet(tweet_id='1467951252', username='USERID_2', num_liked=7515, length=48),\n",
       " Tweet(tweet_id='1467889988', username='USERID_2', num_liked=7394, length=51),\n",
       " Tweet(tweet_id='1467916959', username='USERID_2', num_liked=7081, length=69),\n",
       " Tweet(tweet_id='1467874916', username='USERID_2', num_liked=6935, length=23),\n",
       " Tweet(tweet_id='1467855981', username='USERID_2', num_liked=6455, length=92),\n",
       " Tweet(tweet_id='1467872247', username='USERID_2', num_liked=6316, length=137),\n",
       " Tweet(tweet_id='1467918850', username='USERID_2', num_liked=5383, length=103),\n",
       " Tweet(tweet_id='1467919055', username='USERID_2', num_liked=5370, length=68),\n",
       " Tweet(tweet_id='1467915670', username='USERID_2', num_liked=5287, length=138),\n",
       " Tweet(tweet_id='1467880442', username='USERID_2', num_liked=5125, length=96),\n",
       " Tweet(tweet_id='1467896253', username='USERID_2', num_liked=4906, length=91),\n",
       " Tweet(tweet_id='1467962897', username='USERID_2', num_liked=4898, length=98),\n",
       " Tweet(tweet_id='1467855812', username='USERID_2', num_liked=4806, length=28),\n",
       " Tweet(tweet_id='1467930220', username='USERID_2', num_liked=4770, length=94),\n",
       " Tweet(tweet_id='1467852031', username='USERID_2', num_liked=4565, length=63),\n",
       " Tweet(tweet_id='1467905378', username='USERID_2', num_liked=4420, length=111),\n",
       " Tweet(tweet_id='1467877833', username='USERID_2', num_liked=4270, length=89),\n",
       " Tweet(tweet_id='1467870866', username='USERID_2', num_liked=4166, length=82),\n",
       " Tweet(tweet_id='1467879984', username='USERID_2', num_liked=3694, length=69),\n",
       " Tweet(tweet_id='1467898511', username='USERID_2', num_liked=3477, length=99),\n",
       " Tweet(tweet_id='1467926632', username='USERID_2', num_liked=2602, length=98),\n",
       " Tweet(tweet_id='1467862213', username='USERID_2', num_liked=2455, length=138),\n",
       " Tweet(tweet_id='1467878633', username='USERID_2', num_liked=2351, length=33),\n",
       " Tweet(tweet_id='1467878971', username='USERID_2', num_liked=2238, length=27),\n",
       " Tweet(tweet_id='1467953090', username='USERID_2', num_liked=1896, length=64),\n",
       " Tweet(tweet_id='1467908798', username='USERID_2', num_liked=1659, length=51),\n",
       " Tweet(tweet_id='1467918015', username='USERID_2', num_liked=1508, length=97),\n",
       " Tweet(tweet_id='1467926444', username='USERID_2', num_liked=1394, length=61),\n",
       " Tweet(tweet_id='1467914499', username='USERID_2', num_liked=910, length=138),\n",
       " Tweet(tweet_id='1467968584', username='USERID_2', num_liked=777, length=132),\n",
       " Tweet(tweet_id='1467933102', username='USERID_2', num_liked=625, length=135),\n",
       " Tweet(tweet_id='1467953277', username='USERID_2', num_liked=494, length=31),\n",
       " Tweet(tweet_id='1467890222', username='USERID_2', num_liked=227, length=107),\n",
       " Tweet(tweet_id='1467871956', username='USERID_2', num_liked=110, length=68)]"
      ]
     },
     "execution_count": 24,
     "metadata": {},
     "output_type": "execute_result"
    }
   ],
   "source": [
    "#q10\n",
    "\n",
    "user_2_tweets = []\n",
    "for tweet in full_data_tweets:\n",
    "    if tweet[1] == outlier:\n",
    "        user_2_tweets.append(tweet)\n",
    "def num_liked(tweet):\n",
    "    try:\n",
    "        integer = int(tweet[2])\n",
    "    except:\n",
    "        if tweet[2][-1].lower() == 'm':\n",
    "            integer = int(tweet[2][:-1]) * 1000000\n",
    "        if tweet[2][-1].lower() == 'k':\n",
    "            integer = int(tweet[2][:-1]) * 1000\n",
    "    return integer\n",
    "\n",
    "def num_liked(tweet):\n",
    "    num_liked = tweet[2]\n",
    "    return num_liked\n",
    "user_2_tweets = sorted(user_2_tweets, key=num_liked, reverse = True)\n",
    "user_2_tweets        "
   ]
  },
  {
   "cell_type": "code",
   "execution_count": 25,
   "metadata": {},
   "outputs": [
    {
     "data": {
      "text/plain": [
       "5003.565217391304"
      ]
     },
     "execution_count": 25,
     "metadata": {},
     "output_type": "execute_result"
    }
   ],
   "source": [
    "#q11\n",
    "running_total = 0\n",
    "i = 0\n",
    "for tweet in outlier_tweets[1:]:\n",
    "    running_total += tweet[2]\n",
    "    i +=1\n",
    "    \n",
    "running_total/i\n",
    "    "
   ]
  },
  {
   "cell_type": "code",
   "execution_count": 26,
   "metadata": {},
   "outputs": [
    {
     "data": {
      "image/png": "[encoded data removed]",
      "text/plain": [
       "<Figure size 432x288 with 1 Axes>"
      ]
     },
     "metadata": {
      "needs_background": "light"
     },
     "output_type": "display_data"
    }
   ],
   "source": [
    "#q12\n",
    "def find_most_liked(username):\n",
    "    current_highest = 0\n",
    "    letters = ['m', 'k']\n",
    "    for tweet in full_data_tweets:\n",
    "        try:\n",
    "            num_liked = int(tweet[2])\n",
    "        except:\n",
    "            if tweet[2][-1].lower() == 'm':\n",
    "                num_liked = int(tweet[2][:-1]) * 0\n",
    "            if tweet[2][-1].lower() == 'k':\n",
    "                num_liked = int(tweet[2][:-1]) * 1000                      \n",
    "        if tweet[1] == username:\n",
    "            if num_liked > current_highest:\n",
    "                current_highest = num_liked\n",
    "    return current_highest\n",
    "\n",
    "most_liked_dict = {}\n",
    "for user in username_set:\n",
    "    most_liked_dict[user] = find_most_liked(user)\n",
    "most_liked_dict\n",
    "scatter(prolific_dict,\n",
    "        most_liked_dict,\n",
    "        xlabel=\"Number of tweets\", ylabel=\"Largest likes\")"
   ]
  },
  {
   "cell_type": "code",
   "execution_count": 33,
   "metadata": {},
   "outputs": [
    {
     "data": {
      "image/png": "[encoded data removed]",
      "text/plain": [
       "<Figure size 432x288 with 1 Axes>"
      ]
     },
     "metadata": {
      "needs_background": "light"
     },
     "output_type": "display_data"
    }
   ],
   "source": [
    "#q13\n",
    "def find_most_liked(username):\n",
    "    current_highest = 0\n",
    "    letters = ['m', 'k']\n",
    "    for tweet in full_data_tweets:\n",
    "        try:\n",
    "            num_liked = int(tweet[2])\n",
    "        except:\n",
    "            if tweet[2][-1].lower() == 'm':\n",
    "                num_liked = int(tweet[2][:-1]) * 0\n",
    "            if tweet[2][-1].lower() == 'k':\n",
    "                num_liked = int(tweet[2][:-1]) * 0                      \n",
    "        if tweet[1] == username:\n",
    "            if num_liked > current_highest:\n",
    "                current_highest = num_liked\n",
    "    return current_highest\n",
    "\n",
    "most_liked_dict = {}\n",
    "for user in username_set:\n",
    "    most_liked_dict[user] = find_most_liked(user)\n",
    "most_liked_dict\n",
    "scatter(prolific_dict,\n",
    "        most_liked_dict,\n",
    "        xlabel=\"Number of tweets\", ylabel=\"Largest likes\")"
   ]
  },
  {
   "cell_type": "code",
   "execution_count": 34,
   "metadata": {},
   "outputs": [
    {
     "data": {
      "text/plain": [
       "[]"
      ]
     },
     "execution_count": 34,
     "metadata": {},
     "output_type": "execute_result"
    }
   ],
   "source": [
    "#q14\n",
    "def directory_list(directory):\n",
    "    paths_list = []\n",
    "    directory_list = os.listdir(directory)\n",
    "    new_directory_list = []\n",
    "    for path in directory_list:\n",
    "        if os.path.isfile(os.path.join(directory, path)) == True:\n",
    "            new_directory_list.append(os.path.join(directory, path))\n",
    "        else:\n",
    "            paths_list.append(os.path.join(directory, path))\n",
    "    for path in paths_list:\n",
    "        path_dir_list = os.listdir(path)\n",
    "        for subdir in path_dir_list:\n",
    "            if os.path.isfile(os.path.join(path, subdir)) == True:\n",
    "                new_directory_list.append(os.path.join(path, subdir))\n",
    "            else:\n",
    "                paths_list.append(os.path.join(path, subdir))\n",
    "    new_directory_list = sorted(new_directory_list, reverse = True)\n",
    "    return new_directory_list\n",
    "\n",
    "\n",
    "\n",
    "def directory_list(directory):\n",
    "    new_directory_list = []\n",
    "    directory_list = os.listdir(directory)\n",
    "    for path in directory_list:\n",
    "        if os.path.isfile(os.path.join(directory, path)) == True:\n",
    "            new_directory_list.append(os.path.join(directory, path))\n",
    "        else:\n",
    "            directory_list(path)\n",
    "    return new_directory_list\n",
    "    \n",
    "directory_list(\"play/rb/rb8\")"
   ]
  },
  {
   "cell_type": "code",
   "execution_count": 35,
   "metadata": {},
   "outputs": [
    {
     "data": {
      "text/plain": [
       "['play\\\\ou\\\\v',\n",
       " 'play\\\\ou\\\\quap\\\\uikwe',\n",
       " 'play\\\\ou\\\\quap\\\\qonxu.txt',\n",
       " 'play\\\\ou\\\\quap\\\\aoq\\\\qsonj',\n",
       " 'play\\\\ou\\\\quap\\\\aoq\\\\aqnsa',\n",
       " 'play\\\\ou\\\\b',\n",
       " 'play\\\\ou\\\\a']"
      ]
     },
     "execution_count": 35,
     "metadata": {},
     "output_type": "execute_result"
    }
   ],
   "source": [
    "#q15\n",
    "\n",
    "directory_list(os.path.join(\"play\", \"ou\"))"
   ]
  },
  {
   "cell_type": "code",
   "execution_count": 36,
   "metadata": {},
   "outputs": [
    {
     "data": {
      "text/plain": [
       "['play\\\\rb\\\\rb9\\\\89.csv',\n",
       " 'play\\\\rb\\\\rb9\\\\12.xls',\n",
       " 'play\\\\rb\\\\ppt.ppt',\n",
       " 'play\\\\ou\\\\v',\n",
       " 'play\\\\ou\\\\quap\\\\uikwe',\n",
       " 'play\\\\ou\\\\quap\\\\qonxu.txt',\n",
       " 'play\\\\ou\\\\quap\\\\aoq\\\\qsonj',\n",
       " 'play\\\\ou\\\\quap\\\\aoq\\\\aqnsa',\n",
       " 'play\\\\ou\\\\b',\n",
       " 'play\\\\ou\\\\a',\n",
       " 'play\\\\ls\\\\qwe\\\\usun.pdf',\n",
       " 'play\\\\ls\\\\qwe\\\\iuqwe.json',\n",
       " 'play\\\\ls\\\\mf.py',\n",
       " 'play\\\\ls\\\\lu.txt']"
      ]
     },
     "execution_count": 36,
     "metadata": {},
     "output_type": "execute_result"
    }
   ],
   "source": [
    "#q16\n",
    "\n",
    "directory_list(\"play\")"
   ]
  },
  {
   "cell_type": "code",
   "execution_count": 37,
   "metadata": {},
   "outputs": [
    {
     "data": {
      "text/plain": [
       "['recursive\\\\others\\\\USERID_9.json',\n",
       " 'recursive\\\\others\\\\USERID_8.json',\n",
       " 'recursive\\\\others\\\\USERID_7.json',\n",
       " 'recursive\\\\others\\\\USERID_6.json',\n",
       " 'recursive\\\\others\\\\USERID_5.json',\n",
       " 'recursive\\\\others\\\\USERID_10.json']"
      ]
     },
     "execution_count": 37,
     "metadata": {},
     "output_type": "execute_result"
    }
   ],
   "source": [
    "#q17\n",
    "\n",
    "directory_list(os.path.join(\"recursive\", \"others\"))"
   ]
  },
  {
   "cell_type": "code",
   "execution_count": 38,
   "metadata": {},
   "outputs": [
    {
     "data": {
      "text/plain": [
       "['recursive\\\\others\\\\USERID_9.json',\n",
       " 'recursive\\\\others\\\\USERID_8.json',\n",
       " 'recursive\\\\others\\\\USERID_7.json',\n",
       " 'recursive\\\\others\\\\USERID_6.json',\n",
       " 'recursive\\\\others\\\\USERID_5.json',\n",
       " 'recursive\\\\others\\\\USERID_10.json',\n",
       " 'recursive\\\\USERID_4\\\\true\\\\tweets.json',\n",
       " 'recursive\\\\USERID_4\\\\false\\\\tweets.json',\n",
       " 'recursive\\\\USERID_3\\\\tweets.json',\n",
       " 'recursive\\\\USERID_2\\\\tweets.json',\n",
       " 'recursive\\\\USERID_1\\\\tweets.json']"
      ]
     },
     "execution_count": 38,
     "metadata": {},
     "output_type": "execute_result"
    }
   ],
   "source": [
    "#q18\n",
    "\n",
    "directory_list(\"recursive\")"
   ]
  },
  {
   "cell_type": "code",
   "execution_count": 39,
   "metadata": {},
   "outputs": [],
   "source": [
    "def AmountTweets(directory):\n",
    "    dir_list = directory_list(directory)\n",
    "    tuples = []\n",
    "    for file in dir_list:\n",
    "        name, extension = os.path.splitext(file)\n",
    "        if 'json' in extension:\n",
    "            try:\n",
    "                f = open(file)\n",
    "                data = json.load(f)\n",
    "                f.close\n",
    "                for row_dict in data:\n",
    "                    tweet_id = row_dict\n",
    "                    try:\n",
    "                        tuples.append(Tweet(tweet_id, data[row_dict]['username'], int(data[row_dict]['num_liked']), len(data[row_dict]['tweet_text'])))\n",
    "                    except:\n",
    "                        try:\n",
    "                            tuples.append(Tweet(tweet_id, data[row_dict]['username'], str(data[row_dict]['num_liked']), len(data[row_dict]['tweet_text'])))\n",
    "                        except:\n",
    "                            pass\n",
    "            except:\n",
    "                pass\n",
    "        if 'csv' in extension:\n",
    "            try:\n",
    "                f = open(file)\n",
    "                reader = csv.DictReader(f)\n",
    "                f.close\n",
    "                for row_dict in reader:\n",
    "                    try:\n",
    "                        tuples.append(Tweet(row_dict['tweet_id'], row_dict['username'], int(row_dict['num_liked']), len(row_dict['tweet_text'])))\n",
    "                    except:\n",
    "                        try:\n",
    "                            if len(row_dict['num_liked']) < 7:\n",
    "                                tuples.append(Tweet(row_dict['tweet_id'], row_dict['username'], str(row_dict['num_liked']), len(row_dict['tweet_text'])))\n",
    "                        except:\n",
    "                            pass\n",
    "            except:\n",
    "                pass\n",
    "    return len(tuples)"
   ]
  },
  {
   "cell_type": "code",
   "execution_count": 40,
   "metadata": {},
   "outputs": [
    {
     "data": {
      "text/plain": [
       "17"
      ]
     },
     "execution_count": 40,
     "metadata": {},
     "output_type": "execute_result"
    }
   ],
   "source": [
    "#q19\n",
    "\n",
    "AmountTweets(os.path.join(\"recursive\", \"USERID_4\"))"
   ]
  },
  {
   "cell_type": "code",
   "execution_count": 41,
   "metadata": {},
   "outputs": [
    {
     "data": {
      "text/plain": [
       "200"
      ]
     },
     "execution_count": 41,
     "metadata": {},
     "output_type": "execute_result"
    }
   ],
   "source": [
    "#q20\n",
    "\n",
    "AmountTweets(\"recursive\")"
   ]
  },
  {
   "cell_type": "code",
   "execution_count": null,
   "metadata": {},
   "outputs": [],
   "source": []
  }
 ],
 "metadata": {
  "kernelspec": {
   "display_name": "Python 3 (ipykernel)",
   "language": "python",
   "name": "python3"
  },
  "language_info": {
   "codemirror_mode": {
    "name": "ipython",
    "version": 3
   },
   "file_extension": ".py",
   "mimetype": "text/x-python",
   "name": "python",
   "nbconvert_exporter": "python",
   "pygments_lexer": "ipython3",
   "version": "3.9.12"
  }
 },
 "nbformat": 4,
 "nbformat_minor": 4
}
