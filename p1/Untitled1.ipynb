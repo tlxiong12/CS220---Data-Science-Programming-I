{
 "cells": [
  {
   "cell_type": "code",
   "execution_count": 46,
   "id": "54f2d78b",
   "metadata": {},
   "outputs": [],
   "source": [
    "i = -1               #line 1\n",
    "while i >= 0:           #line 2\n",
    "    print(i , end=\"->\") #line 3\n",
    "    i = i + 2          #line 4"
   ]
  },
  {
   "cell_type": "code",
   "execution_count": 31,
   "id": "876383e3",
   "metadata": {},
   "outputs": [
    {
     "ename": "SyntaxError",
     "evalue": "invalid syntax (4023451661.py, line 1)",
     "output_type": "error",
     "traceback": [
      "\u001b[1;36m  Input \u001b[1;32mIn [31]\u001b[1;36m\u001b[0m\n\u001b[1;33m    .upper()\u001b[0m\n\u001b[1;37m    ^\u001b[0m\n\u001b[1;31mSyntaxError\u001b[0m\u001b[1;31m:\u001b[0m invalid syntax\n"
     ]
    }
   ],
   "source": []
  },
  {
   "cell_type": "code",
   "execution_count": 54,
   "id": "29e538bf",
   "metadata": {},
   "outputs": [
    {
     "name": "stdout",
     "output_type": "stream",
     "text": [
      "Giraffes are the tallest animals.\n"
     ]
    }
   ],
   "source": [
    "fact = \"{} are the tallest animals.\"\n",
    "print(fact.format(\"Giraffes\"))"
   ]
  },
  {
   "cell_type": "code",
   "execution_count": 38,
   "id": "868cc557",
   "metadata": {},
   "outputs": [],
   "source": [
    "list1 = [\"cs220\",\"is\",\"cool\"]\n",
    "list2 = [\"i\",\"love\",\"python\",\"!\"]\n",
    "\n",
    "list1.append(list2)"
   ]
  },
  {
   "cell_type": "code",
   "execution_count": null,
   "id": "83f7bd76",
   "metadata": {},
   "outputs": [],
   "source": []
  }
 ],
 "metadata": {
  "kernelspec": {
   "display_name": "Python 3 (ipykernel)",
   "language": "python",
   "name": "python3"
  },
  "language_info": {
   "codemirror_mode": {
    "name": "ipython",
    "version": 3
   },
   "file_extension": ".py",
   "mimetype": "text/x-python",
   "name": "python",
   "nbconvert_exporter": "python",
   "pygments_lexer": "ipython3",
   "version": "3.9.12"
  }
 },
 "nbformat": 4,
 "nbformat_minor": 5
}
