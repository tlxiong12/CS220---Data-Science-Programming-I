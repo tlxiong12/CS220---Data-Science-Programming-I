{
 "cells": [
  {
   "cell_type": "code",
   "execution_count": 18,
   "id": "2077359f",
   "metadata": {},
   "outputs": [
    {
     "data": {
      "text/plain": [
       "{'LEC001': 19.0, 'LEC002': 19.5, 'LEC003': 25.0}"
      ]
     },
     "execution_count": 18,
     "metadata": {},
     "output_type": "execute_result"
    }
   ],
   "source": [
    "#Example input\n",
    "bins = {\n",
    "    \"LEC001\": [\n",
    "        [\"LEC001\", 19, \"CS\"],\n",
    "    ],\n",
    "    \"LEC002\": [\n",
    "        [\"LEC002\", 18, \"Eng\"],\n",
    "        [\"LEC002\", 21, \"Econ\"],\n",
    "        [\"LEC002\", None, \"DS\"],\n",
    "    ],\n",
    "    \"LEC003\": [\n",
    "        [\"LEC003\", 25, \"Stat\"],\n",
    "        [\"LEC003\", None, \"DS\"],\n",
    "    ]\n",
    "}\n",
    "\n",
    "#Example Result:\n",
    "{'LEC001': 19.0, 'LEC002': 19.5, 'LEC003': 25.0}"
   ]
  },
  {
   "cell_type": "code",
   "execution_count": 26,
   "id": "7e001a13",
   "metadata": {},
   "outputs": [
    {
     "data": {
      "text/plain": [
       "{'LEC001': [['LEC001', 19, 'CS']],\n",
       " 'LEC002': [['LEC002', 18, 'Eng'],\n",
       "  ['LEC002', 21, 'Econ'],\n",
       "  ['LEC002', None, 'DS']],\n",
       " 'LEC003': [['LEC003', 25, 'Stat'], ['LEC003', None, 'DS']]}"
      ]
     },
     "execution_count": 26,
     "metadata": {},
     "output_type": "execute_result"
    }
   ],
   "source": [
    "bins"
   ]
  },
  {
   "cell_type": "code",
   "execution_count": 25,
   "id": "64d510b5",
   "metadata": {},
   "outputs": [
    {
     "ename": "TypeError",
     "evalue": "'int' object is not iterable",
     "output_type": "error",
     "traceback": [
      "\u001b[1;31m---------------------------------------------------------------------------\u001b[0m",
      "\u001b[1;31mTypeError\u001b[0m                                 Traceback (most recent call last)",
      "Input \u001b[1;32mIn [25]\u001b[0m, in \u001b[0;36m<cell line: 18>\u001b[1;34m()\u001b[0m\n\u001b[0;32m     16\u001b[0m         avg_dict[lecture ] \u001b[38;5;241m=\u001b[39m total\u001b[38;5;241m/\u001b[39mcount\n\u001b[0;32m     17\u001b[0m     \u001b[38;5;28;01mreturn\u001b[39;00m avg_dict\n\u001b[1;32m---> 18\u001b[0m \u001b[43mget_avg\u001b[49m\u001b[43m(\u001b[49m\u001b[43mbins\u001b[49m\u001b[43m)\u001b[49m\n",
      "Input \u001b[1;32mIn [25]\u001b[0m, in \u001b[0;36mget_avg\u001b[1;34m(bins_dict)\u001b[0m\n\u001b[0;32m      6\u001b[0m total \u001b[38;5;241m=\u001b[39m \u001b[38;5;241m0\u001b[39m\n\u001b[0;32m      7\u001b[0m count \u001b[38;5;241m=\u001b[39m \u001b[38;5;241m0\u001b[39m\n\u001b[1;32m----> 8\u001b[0m \u001b[38;5;28;01mfor\u001b[39;00m student \u001b[38;5;129;01min\u001b[39;00m total: \n\u001b[0;32m     10\u001b[0m     age_val \u001b[38;5;241m=\u001b[39m student[\u001b[38;5;241m0\u001b[39m]\n\u001b[0;32m     12\u001b[0m     \u001b[38;5;28;01mif\u001b[39;00m age_val \u001b[38;5;241m!=\u001b[39m \u001b[38;5;241m0\u001b[39m:\n",
      "\u001b[1;31mTypeError\u001b[0m: 'int' object is not iterable"
     ]
    }
   ],
   "source": [
    "\n",
    "def get_avg(bins_dict):\n",
    "    avg_dict = dict()\n",
    "    for lecture in range(len(bins_dict)): \n",
    "\n",
    "\n",
    "        total = 0\n",
    "        count = 0\n",
    "        for student in total: \n",
    "\n",
    "            age_val = student[0]\n",
    "\n",
    "            if age_val != 0:\n",
    "\n",
    "                total += int(age_val)\n",
    "                count += 1\n",
    "        avg_dict[lecture ] = total/count\n",
    "    return avg_dict\n",
    "get_avg(bins)"
   ]
  },
  {
   "cell_type": "code",
   "execution_count": null,
   "id": "f20d0f9c",
   "metadata": {},
   "outputs": [],
   "source": []
  }
 ],
 "metadata": {
  "kernelspec": {
   "display_name": "Python 3 (ipykernel)",
   "language": "python",
   "name": "python3"
  },
  "language_info": {
   "codemirror_mode": {
    "name": "ipython",
    "version": 3
   },
   "file_extension": ".py",
   "mimetype": "text/x-python",
   "name": "python",
   "nbconvert_exporter": "python",
   "pygments_lexer": "ipython3",
   "version": "3.9.12"
  }
 },
 "nbformat": 4,
 "nbformat_minor": 5
}
