{
 "cells": [
  {
   "cell_type": "code",
   "execution_count": 1,
   "id": "6b4fe70b",
   "metadata": {
    "execution": {
     "iopub.execute_input": "2021-11-21T20:21:39.570022Z",
     "iopub.status.busy": "2021-11-21T20:21:39.567022Z",
     "iopub.status.idle": "2021-11-21T20:21:39.585979Z",
     "shell.execute_reply": "2021-11-21T20:21:39.586969Z"
    }
   },
   "outputs": [],
   "source": [
    "# project: p10\n",
    "# submitter: abrajanrojas\n",
    "# partner: anvang3\n",
    "# hours: 10"
   ]
  },
  {
   "cell_type": "code",
   "execution_count": 2,
   "id": "42f7a5c1",
   "metadata": {
    "execution": {
     "iopub.execute_input": "2021-11-21T20:21:39.593949Z",
     "iopub.status.busy": "2021-11-21T20:21:39.592952Z",
     "iopub.status.idle": "2021-11-21T20:21:39.616936Z",
     "shell.execute_reply": "2021-11-21T20:21:39.618895Z"
    }
   },
   "outputs": [],
   "source": [
    "import os\n",
    "import json\n",
    "import csv\n",
    "from collections import namedtuple"
   ]
  },
  {
   "cell_type": "code",
   "execution_count": 3,
   "id": "66306827",
   "metadata": {
    "execution": {
     "iopub.execute_input": "2021-11-21T20:21:39.628856Z",
     "iopub.status.busy": "2021-11-21T20:21:39.626861Z",
     "iopub.status.idle": "2021-11-21T20:21:39.647810Z",
     "shell.execute_reply": "2021-11-21T20:21:39.645811Z"
    }
   },
   "outputs": [],
   "source": [
    "def process_csv(filename):\n",
    "    example_file = open(filename, encoding=\"utf-8\")\n",
    "    example_reader = csv.reader(example_file)\n",
    "    example_data = list(example_reader)\n",
    "    example_file.close()\n",
    "    return example_data"
   ]
  },
  {
   "cell_type": "code",
   "execution_count": 4,
   "id": "60a0c4db",
   "metadata": {
    "execution": {
     "iopub.execute_input": "2021-11-21T20:21:39.656781Z",
     "iopub.status.busy": "2021-11-21T20:21:39.655784Z",
     "iopub.status.idle": "2021-11-21T20:21:39.677726Z",
     "shell.execute_reply": "2021-11-21T20:21:39.677726Z"
    }
   },
   "outputs": [
    {
     "data": {
      "text/plain": [
       "4"
      ]
     },
     "execution_count": 1,
     "metadata": {},
     "output_type": "execute_result"
    }
   ],
   "source": [
    "#Q1: How many files are present in the sample_data directory?\n",
    "# cell 1: \".\" referes to the current directory\n",
    "len(os.listdir(\"sample_data\"))\n"
   ]
  },
  {
   "cell_type": "code",
   "execution_count": 5,
   "id": "c1e9195b",
   "metadata": {
    "execution": {
     "iopub.execute_input": "2021-11-21T20:21:39.688697Z",
     "iopub.status.busy": "2021-11-21T20:21:39.686713Z",
     "iopub.status.idle": "2021-11-21T20:21:39.707646Z",
     "shell.execute_reply": "2021-11-21T20:21:39.708644Z"
    }
   },
   "outputs": [
    {
     "data": {
      "text/plain": [
       "10"
      ]
     },
     "execution_count": 1,
     "metadata": {},
     "output_type": "execute_result"
    }
   ],
   "source": [
    "#Q2: How many files are present in the full_data directory?\n",
    "len(os.listdir(\"full_data\"))"
   ]
  },
  {
   "cell_type": "code",
   "execution_count": 6,
   "id": "0fa279d5",
   "metadata": {
    "execution": {
     "iopub.execute_input": "2021-11-21T20:21:39.717619Z",
     "iopub.status.busy": "2021-11-21T20:21:39.716627Z",
     "iopub.status.idle": "2021-11-21T20:21:39.723603Z",
     "shell.execute_reply": "2021-11-21T20:21:39.724603Z"
    }
   },
   "outputs": [],
   "source": [
    "#path = os.path.join(\"sample_data\",\"full_data\")\n",
    "#path"
   ]
  },
  {
   "cell_type": "code",
   "execution_count": 7,
   "id": "ca986b6a",
   "metadata": {
    "execution": {
     "iopub.execute_input": "2021-11-21T20:21:39.734574Z",
     "iopub.status.busy": "2021-11-21T20:21:39.732586Z",
     "iopub.status.idle": "2021-11-21T20:21:39.756514Z",
     "shell.execute_reply": "2021-11-21T20:21:39.757512Z"
    }
   },
   "outputs": [
    {
     "data": {
      "text/plain": [
       "['sample_data\\\\1.csv',\n",
       " 'sample_data\\\\1.json',\n",
       " 'sample_data\\\\2.csv',\n",
       " 'sample_data\\\\2.json']"
      ]
     },
     "execution_count": 1,
     "metadata": {},
     "output_type": "execute_result"
    }
   ],
   "source": [
    "#Q3: What are the paths of all the files in the sample_data directory?\n",
    "sample_data = os.listdir(\"sample_data\")\n",
    "\n",
    "paths = []\n",
    "for i in range(len(sample_data)):\n",
    "    if sample_data[i][0] == \".\":\n",
    "        continue\n",
    "    path = os.path.join(\"sample_data\", sample_data[i])\n",
    "    paths.append(path)\n",
    "paths"
   ]
  },
  {
   "cell_type": "code",
   "execution_count": 8,
   "id": "fa9dd2b0",
   "metadata": {
    "execution": {
     "iopub.execute_input": "2021-11-21T20:21:39.768489Z",
     "iopub.status.busy": "2021-11-21T20:21:39.766491Z",
     "iopub.status.idle": "2021-11-21T20:21:39.789431Z",
     "shell.execute_reply": "2021-11-21T20:21:39.787433Z"
    }
   },
   "outputs": [
    {
     "data": {
      "text/plain": [
       "['full_data\\\\1.csv',\n",
       " 'full_data\\\\1.json',\n",
       " 'full_data\\\\2.csv',\n",
       " 'full_data\\\\2.json',\n",
       " 'full_data\\\\3.csv',\n",
       " 'full_data\\\\3.json',\n",
       " 'full_data\\\\4.csv',\n",
       " 'full_data\\\\4.json',\n",
       " 'full_data\\\\5.csv',\n",
       " 'full_data\\\\5.json']"
      ]
     },
     "execution_count": 1,
     "metadata": {},
     "output_type": "execute_result"
    }
   ],
   "source": [
    "#Q4: What are the paths of all the files in the full_data directory?\n",
    "sample_data = os.listdir(\"full_data\")\n",
    "\n",
    "paths = []\n",
    "for i in range(len(sample_data)):\n",
    "    path = os.path.join(\"full_data\", sample_data[i])\n",
    "    paths.append(path)\n",
    "paths"
   ]
  },
  {
   "cell_type": "code",
   "execution_count": 9,
   "id": "d18e39bb",
   "metadata": {
    "execution": {
     "iopub.execute_input": "2021-11-21T20:21:39.800398Z",
     "iopub.status.busy": "2021-11-21T20:21:39.797410Z",
     "iopub.status.idle": "2021-11-21T20:21:39.820345Z",
     "shell.execute_reply": "2021-11-21T20:21:39.820345Z"
    }
   },
   "outputs": [
    {
     "data": {
      "text/plain": [
       "['sample_data\\\\1.csv', 'sample_data\\\\2.csv']"
      ]
     },
     "execution_count": 1,
     "metadata": {},
     "output_type": "execute_result"
    }
   ],
   "source": [
    "#Q5: What are the paths of the CSV files present in the sample_data directory?\n",
    "sample_data = os.listdir(\"sample_data\")\n",
    "\n",
    "paths = []\n",
    "for i in range(len(sample_data)):\n",
    "    if sample_data[i].split('.')[-1] == \"csv\":\n",
    "        path = os.path.join(\"sample_data\", sample_data[i])\n",
    "        paths.append(path)\n",
    "paths"
   ]
  },
  {
   "cell_type": "code",
   "execution_count": 10,
   "id": "6c3cf922",
   "metadata": {
    "execution": {
     "iopub.execute_input": "2021-11-21T20:21:39.826330Z",
     "iopub.status.busy": "2021-11-21T20:21:39.826330Z",
     "iopub.status.idle": "2021-11-21T20:21:39.840292Z",
     "shell.execute_reply": "2021-11-21T20:21:39.841288Z"
    }
   },
   "outputs": [
    {
     "data": {
      "text/plain": [
       "['full_data\\\\1.json',\n",
       " 'full_data\\\\2.json',\n",
       " 'full_data\\\\3.json',\n",
       " 'full_data\\\\4.json',\n",
       " 'full_data\\\\5.json']"
      ]
     },
     "execution_count": 1,
     "metadata": {},
     "output_type": "execute_result"
    }
   ],
   "source": [
    "#Q6: What are the paths of the json files present in the full_data directory?\n",
    "sample_data = os.listdir(\"full_data\")\n",
    "\n",
    "paths = []\n",
    "for i in range(len(sample_data)):\n",
    "    if sample_data[i].split('.')[-1] == \"json\":\n",
    "        path = os.path.join(\"full_data\", sample_data[i])\n",
    "        paths.append(path)\n",
    "paths"
   ]
  },
  {
   "cell_type": "code",
   "execution_count": 11,
   "id": "d51fc865",
   "metadata": {
    "execution": {
     "iopub.execute_input": "2021-11-21T20:21:39.853262Z",
     "iopub.status.busy": "2021-11-21T20:21:39.851263Z",
     "iopub.status.idle": "2021-11-21T20:21:39.870212Z",
     "shell.execute_reply": "2021-11-21T20:21:39.871210Z"
    }
   },
   "outputs": [
    {
     "data": {
      "text/plain": [
       "Tweet(tweet_id='id123', username='user456', num_liked=100, length=140)"
      ]
     },
     "execution_count": 1,
     "metadata": {},
     "output_type": "execute_result"
    }
   ],
   "source": [
    "Tweet = namedtuple(\"Tweet\",[\"tweet_id\", \"username\", \"num_liked\", \"length\"])\n",
    "t = Tweet(\"id123\", \"user456\", 100, 140)\n",
    "t"
   ]
  },
  {
   "cell_type": "code",
   "execution_count": 12,
   "id": "75c11530",
   "metadata": {
    "execution": {
     "iopub.execute_input": "2021-11-21T20:21:39.882199Z",
     "iopub.status.busy": "2021-11-21T20:21:39.879195Z",
     "iopub.status.idle": "2021-11-21T20:21:39.900133Z",
     "shell.execute_reply": "2021-11-21T20:21:39.901128Z"
    }
   },
   "outputs": [
    {
     "data": {
      "text/plain": [
       "[Tweet(tweet_id='1467812799', username='USERID_7', num_liked=3340, length=103),\n",
       " Tweet(tweet_id='1467812964', username='USERID_10', num_liked=3684, length=93),\n",
       " Tweet(tweet_id='1467813137', username='USERID_5', num_liked=6816, length=20),\n",
       " Tweet(tweet_id='1467813579', username='USERID_1', num_liked=1348, length=64),\n",
       " Tweet(tweet_id='1467813782', username='USERID_1', num_liked=4770, length=79)]"
      ]
     },
     "execution_count": 1,
     "metadata": {},
     "output_type": "execute_result"
    }
   ],
   "source": [
    "#Q7: What are the tweets present in the CSV file 2.csv in sample_data?\n",
    "def csv_tweet(d, f):\n",
    "    Tweet = namedtuple(\"Tweet\",[\"tweet_id\", \"username\", \"num_liked\", \"length\"])\n",
    "    data = process_csv(os.path.join(d, f))\n",
    "    new_data = data[1:]\n",
    "    #print(new_data)\n",
    "    tweets = []\n",
    "    for i in new_data:\n",
    "        if len(i) < 6:\n",
    "            continue\n",
    "        T = Tweet(i[0], i[2], int(i[3]), len(i[4]))\n",
    "        tweets.append(T)\n",
    "    return tweets\n",
    "csv_tweet(\"sample_data\", \"2.csv\")"
   ]
  },
  {
   "cell_type": "code",
   "execution_count": 13,
   "id": "9c6000a3",
   "metadata": {
    "execution": {
     "iopub.execute_input": "2021-11-21T20:21:39.909108Z",
     "iopub.status.busy": "2021-11-21T20:21:39.908109Z",
     "iopub.status.idle": "2021-11-21T20:21:39.932050Z",
     "shell.execute_reply": "2021-11-21T20:21:39.931052Z"
    }
   },
   "outputs": [
    {
     "data": {
      "text/plain": [
       "[Tweet(tweet_id='1467901250', username='USERID_6', num_liked=7790, length=132),\n",
       " Tweet(tweet_id='1467901346', username='USERID_1', num_liked=5079, length=137),\n",
       " Tweet(tweet_id='1467901437', username='USERID_6', num_liked=5913, length=60),\n",
       " Tweet(tweet_id='1467901500', username='USERID_7', num_liked=7376, length=13),\n",
       " Tweet(tweet_id='1467901839', username='USERID_7', num_liked=4871, length=101),\n",
       " Tweet(tweet_id='1467904302', username='USERID_8', num_liked=1195, length=91),\n",
       " Tweet(tweet_id='1467905125', username='USERID_7', num_liked=1738, length=27),\n",
       " Tweet(tweet_id='1467905378', username='USERID_2', num_liked=4420, length=111),\n",
       " Tweet(tweet_id='1467905653', username='USERID_10', num_liked=8845, length=82),\n",
       " Tweet(tweet_id='1467906151', username='USERID_8', num_liked=6711, length=45),\n",
       " Tweet(tweet_id='1467906345', username='USERID_3', num_liked=8279, length=46),\n",
       " Tweet(tweet_id='1467906723', username='USERID_6', num_liked=7222, length=28),\n",
       " Tweet(tweet_id='1467907298', username='USERID_8', num_liked=9005, length=61),\n",
       " Tweet(tweet_id='1467907751', username='USERID_2', num_liked=9048, length=110),\n",
       " Tweet(tweet_id='1467907876', username='USERID_7', num_liked=1347, length=87),\n",
       " Tweet(tweet_id='1467908012', username='USERID_1', num_liked=1809, length=50),\n",
       " Tweet(tweet_id='1467908134', username='USERID_7', num_liked=8983, length=66),\n",
       " Tweet(tweet_id='1467908456', username='USERID_5', num_liked=2265, length=138),\n",
       " Tweet(tweet_id='1467908672', username='USERID_10', num_liked=1692, length=48),\n",
       " Tweet(tweet_id='1467908798', username='USERID_2', num_liked=1659, length=51),\n",
       " Tweet(tweet_id='1467909124', username='USERID_4', num_liked=9406, length=118),\n",
       " Tweet(tweet_id='1467909222', username='USERID_5', num_liked=8887, length=136),\n",
       " Tweet(tweet_id='1467909292', username='USERID_10', num_liked=5179, length=45),\n",
       " Tweet(tweet_id='1467910531', username='USERID_7', num_liked=6172, length=34),\n",
       " Tweet(tweet_id='1467910689', username='USERID_3', num_liked=1529, length=37),\n",
       " Tweet(tweet_id='1467910932', username='USERID_8', num_liked=1507, length=68),\n",
       " Tweet(tweet_id='1467910986', username='USERID_6', num_liked=836, length=66),\n",
       " Tweet(tweet_id='1467910995', username='USERID_4', num_liked=2886, length=57),\n",
       " Tweet(tweet_id='1467911036', username='USERID_7', num_liked=6950, length=101),\n",
       " Tweet(tweet_id='1467911302', username='USERID_10', num_liked=8562, length=119),\n",
       " Tweet(tweet_id='1467911624', username='USERID_5', num_liked=5668, length=77),\n",
       " Tweet(tweet_id='1467911846', username='USERID_3', num_liked=1352, length=67),\n",
       " Tweet(tweet_id='1467912100', username='USERID_6', num_liked=3394, length=94),\n",
       " Tweet(tweet_id='1467912333', username='USERID_7', num_liked=3345, length=49),\n",
       " Tweet(tweet_id='1467912572', username='USERID_3', num_liked=36, length=80),\n",
       " Tweet(tweet_id='1467912842', username='USERID_4', num_liked=496, length=14),\n",
       " Tweet(tweet_id='1467912994', username='USERID_8', num_liked=926, length=57),\n",
       " Tweet(tweet_id='1467913111', username='USERID_7', num_liked=5185, length=144),\n",
       " Tweet(tweet_id='1467913608', username='USERID_8', num_liked=8262, length=111),\n",
       " Tweet(tweet_id='1467914434', username='USERID_1', num_liked=1269, length=49),\n",
       " Tweet(tweet_id='1467914499', username='USERID_2', num_liked=910, length=138),\n",
       " Tweet(tweet_id='1467914916', username='USERID_4', num_liked=3232, length=91),\n",
       " Tweet(tweet_id='1467915140', username='USERID_7', num_liked=1996, length=22),\n",
       " Tweet(tweet_id='1467915612', username='USERID_6', num_liked=4014, length=41),\n",
       " Tweet(tweet_id='1467915670', username='USERID_2', num_liked=5287, length=138),\n",
       " Tweet(tweet_id='1467916510', username='USERID_8', num_liked=8150, length=96),\n",
       " Tweet(tweet_id='1467916595', username='USERID_6', num_liked=1178, length=138),\n",
       " Tweet(tweet_id='1467916695', username='USERID_10', num_liked=6691, length=54),\n",
       " Tweet(tweet_id='1467916700', username='USERID_9', num_liked=2519, length=136),\n",
       " Tweet(tweet_id='1467916820', username='USERID_10', num_liked=8557, length=127)]"
      ]
     },
     "execution_count": 1,
     "metadata": {},
     "output_type": "execute_result"
    }
   ],
   "source": [
    "#Q8: What are the tweets present in the CSV file 3.csv in full_data?\n",
    "data = process_csv(os.path.join(\"full_data\", \"3.csv\"))\n",
    "new_data = data[1:]\n",
    "#print(data[0])\n",
    "tweets = []\n",
    "for i in new_data:\n",
    "    tweets.append(Tweet(i[0], i[2], int(i[3]), len(i[4])))\n",
    "tweets"
   ]
  },
  {
   "cell_type": "code",
   "execution_count": 14,
   "id": "d0f9a78b",
   "metadata": {
    "execution": {
     "iopub.execute_input": "2021-11-21T20:21:39.945011Z",
     "iopub.status.busy": "2021-11-21T20:21:39.943016Z",
     "iopub.status.idle": "2021-11-21T20:21:39.959972Z",
     "shell.execute_reply": "2021-11-21T20:21:39.960973Z"
    }
   },
   "outputs": [
    {
     "data": {
      "text/plain": [
       "[Tweet(tweet_id='1467876711', username='USERID_10', num_liked=1117, length=84),\n",
       " Tweet(tweet_id='1467877496', username='USERID_1', num_liked=2062, length=106),\n",
       " Tweet(tweet_id='1467877833', username='USERID_2', num_liked=4270, length=89),\n",
       " Tweet(tweet_id='1467877865', username='USERID_1', num_liked=5899, length=30),\n",
       " Tweet(tweet_id='1467878057', username='USERID_6', num_liked=703, length=42),\n",
       " Tweet(tweet_id='1467878557', username='USERID_6', num_liked=5814, length=61),\n",
       " Tweet(tweet_id='1467878633', username='USERID_2', num_liked=2351, length=33),\n",
       " Tweet(tweet_id='1467878971', username='USERID_2', num_liked=2238, length=27),\n",
       " Tweet(tweet_id='1467878983', username='USERID_8', num_liked=4860, length=61),\n",
       " Tweet(tweet_id='1467879480', username='USERID_4', num_liked=1345, length=97),\n",
       " Tweet(tweet_id='1467879984', username='USERID_2', num_liked=3694, length=69),\n",
       " Tweet(tweet_id='1467880085', username='USERID_4', num_liked=2478, length=120),\n",
       " Tweet(tweet_id='1467880431', username='USERID_3', num_liked=9407, length=85),\n",
       " Tweet(tweet_id='1467880442', username='USERID_2', num_liked=5125, length=96),\n",
       " Tweet(tweet_id='1467880463', username='USERID_9', num_liked=1226, length=29),\n",
       " Tweet(tweet_id='1467880692', username='USERID_6', num_liked=4989, length=49),\n",
       " Tweet(tweet_id='1467881131', username='USERID_10', num_liked=732, length=107),\n",
       " Tweet(tweet_id='1467881373', username='USERID_6', num_liked=8615, length=145),\n",
       " Tweet(tweet_id='1467881376', username='USERID_4', num_liked=4378, length=49),\n",
       " Tweet(tweet_id='1467881457', username='USERID_7', num_liked=119, length=27),\n",
       " Tweet(tweet_id='1467881686', username='USERID_5', num_liked=8136, length=46),\n",
       " Tweet(tweet_id='1467881809', username='USERID_4', num_liked=1797, length=138),\n",
       " Tweet(tweet_id='1467881897', username='USERID_5', num_liked=2314, length=76),\n",
       " Tweet(tweet_id='1467881920', username='USERID_3', num_liked=4101, length=112),\n",
       " Tweet(tweet_id='1467882140', username='USERID_8', num_liked=5320, length=137),\n",
       " Tweet(tweet_id='1467882491', username='USERID_10', num_liked=3512, length=55),\n",
       " Tweet(tweet_id='1467882592', username='USERID_10', num_liked=1887, length=67),\n",
       " Tweet(tweet_id='1467882902', username='USERID_3', num_liked=4646, length=48),\n",
       " Tweet(tweet_id='1467888679', username='USERID_8', num_liked=3089, length=27),\n",
       " Tweet(tweet_id='1467888732', username='USERID_7', num_liked=2800, length=48),\n",
       " Tweet(tweet_id='1467888953', username='USERID_3', num_liked=3951, length=46),\n",
       " Tweet(tweet_id='1467889231', username='USERID_5', num_liked=1320, length=79),\n",
       " Tweet(tweet_id='1467889334', username='USERID_5', num_liked=8495, length=42),\n",
       " Tweet(tweet_id='1467889574', username='USERID_1', num_liked=4696, length=123),\n",
       " Tweet(tweet_id='1467889791', username='USERID_5', num_liked=4027, length=132),\n",
       " Tweet(tweet_id='1467889988', username='USERID_2', num_liked=7394, length=51),\n",
       " Tweet(tweet_id='1467890079', username='USERID_8', num_liked=2556, length=38),\n",
       " Tweet(tweet_id='1467890222', username='USERID_2', num_liked=227, length=107),\n",
       " Tweet(tweet_id='1467890723', username='USERID_1', num_liked=96, length=134),\n",
       " Tweet(tweet_id='1467891826', username='USERID_9', num_liked=2021, length=113),\n",
       " Tweet(tweet_id='1467891880', username='USERID_7', num_liked=6847, length=96),\n",
       " Tweet(tweet_id='1467892075', username='USERID_6', num_liked=2816, length=124),\n",
       " Tweet(tweet_id='1467892515', username='USERID_5', num_liked=917, length=39),\n",
       " Tweet(tweet_id='1467892667', username='USERID_2', num_liked=8270, length=20),\n",
       " Tweet(tweet_id='1467892720', username='USERID_3', num_liked=3227, length=128)]"
      ]
     },
     "execution_count": 1,
     "metadata": {},
     "output_type": "execute_result"
    }
   ],
   "source": [
    "#Q9: What are the tweets present in the CSV file 2.csv in full_data?\n",
    "data = process_csv(os.path.join(\"full_data\", \"2.csv\"))\n",
    "new_data = data[1:]\n",
    "#print(data[0])\n",
    "tweets = []\n",
    "for i in new_data:\n",
    "    #print(i[3])\n",
    "    if len(i) < 6:\n",
    "        continue\n",
    "    tweets.append(Tweet(i[0], i[2], int(i[3]), len(i[4])))\n",
    "tweets"
   ]
  },
  {
   "cell_type": "code",
   "execution_count": 15,
   "id": "a0f3c889",
   "metadata": {
    "execution": {
     "iopub.execute_input": "2021-11-21T20:21:39.970946Z",
     "iopub.status.busy": "2021-11-21T20:21:39.969963Z",
     "iopub.status.idle": "2021-11-21T20:21:39.990888Z",
     "shell.execute_reply": "2021-11-21T20:21:39.991886Z"
    }
   },
   "outputs": [
    {
     "data": {
      "text/plain": [
       "{'1467812416': {'date': 'Mon Apr 06 22:20:16 PDT 2009',\n",
       "  'username': 'USERID_9',\n",
       "  'tweet_text': \"spring break in plain city... it's snowing \",\n",
       "  'is_retweet': False,\n",
       "  'num_liked': 5278},\n",
       " '1467812579': {'date': 'Mon Apr 06 22:20:17 PDT 2009',\n",
       "  'username': 'USERID_1',\n",
       "  'tweet_text': 'I just re-pierced my ears ',\n",
       "  'is_retweet': False,\n",
       "  'num_liked': 9700},\n",
       " '1467812723': {'date': 'Mon Apr 06 22:20:19 PDT 2009',\n",
       "  'username': 'USERID_3',\n",
       "  'tweet_text': \"@caregiving I couldn't bear to watch it.  And I thought the UA loss was embarrassing . . . . .\",\n",
       "  'is_retweet': True,\n",
       "  'num_liked': 5414},\n",
       " '1467812771': {'date': 'Mon Apr 06 22:20:19 PDT 2009',\n",
       "  'username': 'USERID_8',\n",
       "  'tweet_text': '@octolinz16 It it counts, idk why I did either. you never talk to me anymore ',\n",
       "  'is_retweet': False,\n",
       "  'num_liked': 2190},\n",
       " '1467812784': {'date': 'Mon Apr 06 22:20:20 PDT 2009',\n",
       "  'username': 'USERID_10',\n",
       "  'tweet_text': \"@smarrison i would've been the first, but i didn't have a gun.    not really though, zac snyder's just a doucheclown.\",\n",
       "  'is_retweet': True,\n",
       "  'num_liked': 2667}}"
      ]
     },
     "execution_count": 1,
     "metadata": {},
     "output_type": "execute_result"
    }
   ],
   "source": [
    "f = open(os.path.join(\"sample_data\", \"2.json\"), encoding=\"utf-8\")\n",
    "json_str = f.read()\n",
    "f.close()\n",
    "\n",
    "data = json.loads(json_str)\n",
    "data"
   ]
  },
  {
   "cell_type": "code",
   "execution_count": 16,
   "id": "6a20b5ab",
   "metadata": {
    "execution": {
     "iopub.execute_input": "2021-11-21T20:21:40.005850Z",
     "iopub.status.busy": "2021-11-21T20:21:40.003857Z",
     "iopub.status.idle": "2021-11-21T20:21:40.023800Z",
     "shell.execute_reply": "2021-11-21T20:21:40.024798Z"
    }
   },
   "outputs": [],
   "source": [
    "def let_num(likes):\n",
    "    if type(likes) == int:\n",
    "        return likes\n",
    "    last_d = likes[-1]\n",
    "    if last_d == \"k\":\n",
    "        return int(likes[0:-1]) * 1000\n",
    "    elif likes == \"unkown\" or likes == \"unknown\":\n",
    "        return 0\n",
    "    elif last_d == \"M\":\n",
    "        return int(likes[0:-1]) * 1000000\n",
    "    else:\n",
    "        return int(likes)\n"
   ]
  },
  {
   "cell_type": "code",
   "execution_count": 17,
   "id": "c5c033bb",
   "metadata": {
    "execution": {
     "iopub.execute_input": "2021-11-21T20:21:40.036777Z",
     "iopub.status.busy": "2021-11-21T20:21:40.034771Z",
     "iopub.status.idle": "2021-11-21T20:21:40.054718Z",
     "shell.execute_reply": "2021-11-21T20:21:40.053724Z"
    }
   },
   "outputs": [],
   "source": [
    "def json_tweet(d, f):\n",
    "    x = open(os.path.join(d, f), encoding=\"utf-8\")\n",
    "    json_str = x.read()\n",
    "    x.close()\n",
    "    tweet = []\n",
    "    try:\n",
    "        d = json.loads(json_str)\n",
    "        for i in d:\n",
    "            T = Tweet(i, d[i][\"username\"], let_num(d[i][\"num_liked\"]), len(d[i][\"tweet_text\"]))\n",
    "            tweet.append(T)\n",
    "    except:\n",
    "        pass\n",
    "    return tweet"
   ]
  },
  {
   "cell_type": "code",
   "execution_count": 18,
   "id": "58dc482b",
   "metadata": {
    "execution": {
     "iopub.execute_input": "2021-11-21T20:21:40.059704Z",
     "iopub.status.busy": "2021-11-21T20:21:40.058709Z",
     "iopub.status.idle": "2021-11-21T20:21:40.070676Z",
     "shell.execute_reply": "2021-11-21T20:21:40.071674Z"
    }
   },
   "outputs": [
    {
     "data": {
      "text/plain": [
       "[Tweet(tweet_id='1467810369', username='USERID_4', num_liked=315, length=115),\n",
       " Tweet(tweet_id='1467810672', username='USERID_8', num_liked=5298, length=111),\n",
       " Tweet(tweet_id='1467810917', username='USERID_8', num_liked=533, length=89),\n",
       " Tweet(tweet_id='1467811184', username='USERID_6', num_liked=2650, length=47),\n",
       " Tweet(tweet_id='1467811193', username='USERID_8', num_liked=2101, length=111)]"
      ]
     },
     "execution_count": 1,
     "metadata": {},
     "output_type": "execute_result"
    }
   ],
   "source": [
    "#Q10: What are the tweets present in the JSON file 1.json in sample_data?\n",
    "\n",
    "json_tweet(\"sample_data\", \"1.json\")"
   ]
  },
  {
   "cell_type": "code",
   "execution_count": 19,
   "id": "b597a22c",
   "metadata": {
    "execution": {
     "iopub.execute_input": "2021-11-21T20:21:40.076659Z",
     "iopub.status.busy": "2021-11-21T20:21:40.075662Z",
     "iopub.status.idle": "2021-11-21T20:21:40.086641Z",
     "shell.execute_reply": "2021-11-21T20:21:40.087630Z"
    }
   },
   "outputs": [
    {
     "data": {
      "text/plain": [
       "[Tweet(tweet_id='1467812416', username='USERID_9', num_liked=5278, length=43),\n",
       " Tweet(tweet_id='1467812579', username='USERID_1', num_liked=9700, length=26),\n",
       " Tweet(tweet_id='1467812723', username='USERID_3', num_liked=5414, length=94),\n",
       " Tweet(tweet_id='1467812771', username='USERID_8', num_liked=2190, length=77),\n",
       " Tweet(tweet_id='1467812784', username='USERID_10', num_liked=2667, length=117)]"
      ]
     },
     "execution_count": 1,
     "metadata": {},
     "output_type": "execute_result"
    }
   ],
   "source": [
    "#Q11: What are the tweets present in the JSON file 2.json in sample_data?\n",
    "json_tweet(\"sample_data\", \"2.json\")"
   ]
  },
  {
   "cell_type": "code",
   "execution_count": 20,
   "id": "69e8f77d",
   "metadata": {
    "execution": {
     "iopub.execute_input": "2021-11-21T20:21:40.093614Z",
     "iopub.status.busy": "2021-11-21T20:21:40.092616Z",
     "iopub.status.idle": "2021-11-21T20:21:40.103590Z",
     "shell.execute_reply": "2021-11-21T20:21:40.104608Z"
    }
   },
   "outputs": [
    {
     "data": {
      "text/plain": [
       "[Tweet(tweet_id='1467892760', username='USERID_6', num_liked=4443, length=56),\n",
       " Tweet(tweet_id='1467892889', username='USERID_1', num_liked=7439, length=91),\n",
       " Tweet(tweet_id='1467892945', username='USERID_4', num_liked=8101, length=43),\n",
       " Tweet(tweet_id='1467893163', username='USERID_3', num_liked=6754, length=74),\n",
       " Tweet(tweet_id='1467893258', username='USERID_7', num_liked=1415, length=74),\n",
       " Tweet(tweet_id='1467893275', username='USERID_6', num_liked=9002, length=70),\n",
       " Tweet(tweet_id='1467893504', username='USERID_9', num_liked=4940, length=25),\n",
       " Tweet(tweet_id='1467893730', username='USERID_4', num_liked=840, length=90),\n",
       " Tweet(tweet_id='1467894593', username='USERID_2', num_liked=869000000, length=136),\n",
       " Tweet(tweet_id='1467894600', username='USERID_8', num_liked=915000, length=67),\n",
       " Tweet(tweet_id='1467894746', username='USERID_4', num_liked=3185, length=107),\n",
       " Tweet(tweet_id='1467894749', username='USERID_5', num_liked=6311, length=40),\n",
       " Tweet(tweet_id='1467894750', username='USERID_6', num_liked=1046, length=46),\n",
       " Tweet(tweet_id='1467894786', username='USERID_7', num_liked=4709, length=136),\n",
       " Tweet(tweet_id='1467894841', username='USERID_8', num_liked=803, length=102),\n",
       " Tweet(tweet_id='1467894898', username='USERID_7', num_liked=2692, length=76),\n",
       " Tweet(tweet_id='1467895048', username='USERID_10', num_liked=9822, length=136),\n",
       " Tweet(tweet_id='1467895109', username='USERID_7', num_liked=3255, length=133),\n",
       " Tweet(tweet_id='1467895424', username='USERID_10', num_liked=3423, length=41),\n",
       " Tweet(tweet_id='1467895478', username='USERID_8', num_liked=926, length=67),\n",
       " Tweet(tweet_id='1467895481', username='USERID_5', num_liked=6120, length=49),\n",
       " Tweet(tweet_id='1467895712', username='USERID_8', num_liked=8551, length=136),\n",
       " Tweet(tweet_id='1467896211', username='USERID_6', num_liked=3966, length=31),\n",
       " Tweet(tweet_id='1467896253', username='USERID_2', num_liked=4906, length=91),\n",
       " Tweet(tweet_id='1467896463', username='USERID_9', num_liked=1728, length=136),\n",
       " Tweet(tweet_id='1467896777', username='USERID_10', num_liked=0, length=92),\n",
       " Tweet(tweet_id='1467896778', username='USERID_4', num_liked=886, length=97),\n",
       " Tweet(tweet_id='1467896898', username='USERID_7', num_liked=2972, length=58),\n",
       " Tweet(tweet_id='1467896911', username='USERID_9', num_liked=5160, length=136),\n",
       " Tweet(tweet_id='1467896996', username='USERID_10', num_liked=6540, length=61),\n",
       " Tweet(tweet_id='1467897316', username='USERID_2', num_liked=7890, length=64),\n",
       " Tweet(tweet_id='1467897981', username='USERID_9', num_liked=3034, length=136),\n",
       " Tweet(tweet_id='1467898061', username='USERID_8', num_liked=9271, length=145),\n",
       " Tweet(tweet_id='1467898076', username='USERID_7', num_liked=5075, length=136),\n",
       " Tweet(tweet_id='1467898078', username='USERID_10', num_liked=9705, length=104),\n",
       " Tweet(tweet_id='1467898511', username='USERID_2', num_liked=3477, length=99),\n",
       " Tweet(tweet_id='1467898676', username='USERID_9', num_liked=6766, length=58),\n",
       " Tweet(tweet_id='1467899025', username='USERID_6', num_liked=4660, length=137),\n",
       " Tweet(tweet_id='1467899451', username='USERID_1', num_liked=1861, length=138),\n",
       " Tweet(tweet_id='1467899605', username='USERID_9', num_liked=3209, length=90),\n",
       " Tweet(tweet_id='1467899707', username='USERID_6', num_liked=1941, length=123),\n",
       " Tweet(tweet_id='1467899753', username='USERID_10', num_liked=675, length=32),\n",
       " Tweet(tweet_id='1467900033', username='USERID_10', num_liked=9041, length=36),\n",
       " Tweet(tweet_id='1467900037', username='USERID_8', num_liked=6640, length=70),\n",
       " Tweet(tweet_id='1467900244', username='USERID_10', num_liked=1618, length=45),\n",
       " Tweet(tweet_id='1467900431', username='USERID_9', num_liked=3306, length=34),\n",
       " Tweet(tweet_id='1467900545', username='USERID_7', num_liked=148, length=13),\n",
       " Tweet(tweet_id='1467900898', username='USERID_1', num_liked=1149, length=131),\n",
       " Tweet(tweet_id='1467901135', username='USERID_4', num_liked=5825, length=94),\n",
       " Tweet(tweet_id='1467901188', username='USERID_1', num_liked=8852, length=138)]"
      ]
     },
     "execution_count": 1,
     "metadata": {},
     "output_type": "execute_result"
    }
   ],
   "source": [
    "#Q12: What are the tweets present in the JSON file 3.json in full_data?\n",
    "json_tweet(\"full_data\", \"3.json\")"
   ]
  },
  {
   "cell_type": "code",
   "execution_count": 21,
   "id": "ff442d69",
   "metadata": {
    "execution": {
     "iopub.execute_input": "2021-11-21T20:21:40.111567Z",
     "iopub.status.busy": "2021-11-21T20:21:40.110569Z",
     "iopub.status.idle": "2021-11-21T20:21:40.134505Z",
     "shell.execute_reply": "2021-11-21T20:21:40.137506Z"
    }
   },
   "outputs": [
    {
     "data": {
      "text/plain": [
       "[]"
      ]
     },
     "execution_count": 1,
     "metadata": {},
     "output_type": "execute_result"
    }
   ],
   "source": [
    "#Q13: What are the tweets present in the JSON file 1.json in full_data?\n",
    "json_tweet(\"full_data\", \"1.json\")"
   ]
  },
  {
   "cell_type": "code",
   "execution_count": 22,
   "id": "c8bbee70",
   "metadata": {
    "execution": {
     "iopub.execute_input": "2021-11-21T20:21:40.143481Z",
     "iopub.status.busy": "2021-11-21T20:21:40.142485Z",
     "iopub.status.idle": "2021-11-21T20:21:40.151460Z",
     "shell.execute_reply": "2021-11-21T20:21:40.152460Z"
    }
   },
   "outputs": [],
   "source": [
    "#Q14: Return all the tweet objects with a length greater than 140 in full_data.\n",
    "#def tweets_present\n",
    "#def tweets_greater_than(textLength,directory):\n",
    " #   tweets = []\n",
    "  #  result = []\n",
    "   # for i in os.listdir(directory):\n",
    "    #    if i.split(\".\")[-1] == \"csv\":\n",
    "     #       tweets += (csv_tweet(directory, i))\n",
    "      #  elif i.split(\".\")[-1] == \"json\":\n",
    "       #     tweets += (csv_tweet(directory, i))\n",
    "    #for i in tweets:\n",
    "     #   if i.length > textLength:\n",
    "      #      result.apppend(i)\n",
    "    #return result\n",
    "#tweets_greater_than(140, \"full_data\")"
   ]
  },
  {
   "cell_type": "code",
   "execution_count": 23,
   "id": "83d70323",
   "metadata": {
    "execution": {
     "iopub.execute_input": "2021-11-21T20:21:40.159438Z",
     "iopub.status.busy": "2021-11-21T20:21:40.158443Z",
     "iopub.status.idle": "2021-11-21T20:21:40.166423Z",
     "shell.execute_reply": "2021-11-21T20:21:40.167420Z"
    }
   },
   "outputs": [],
   "source": [
    "#Q15: Return a list of all the tweet objects with a length greater than 100 in sample_data.\n"
   ]
  },
  {
   "cell_type": "code",
   "execution_count": 24,
   "id": "25bad961",
   "metadata": {
    "execution": {
     "iopub.execute_input": "2021-11-21T20:21:40.175396Z",
     "iopub.status.busy": "2021-11-21T20:21:40.174398Z",
     "iopub.status.idle": "2021-11-21T20:21:40.180388Z",
     "shell.execute_reply": "2021-11-21T20:21:40.181391Z"
    }
   },
   "outputs": [],
   "source": [
    "#Q16: Return a list of all the tweet objects in full_data.\n"
   ]
  },
  {
   "cell_type": "code",
   "execution_count": 25,
   "id": "eff95701",
   "metadata": {
    "execution": {
     "iopub.execute_input": "2021-11-21T20:21:40.194347Z",
     "iopub.status.busy": "2021-11-21T20:21:40.192351Z",
     "iopub.status.idle": "2021-11-21T20:21:40.197345Z",
     "shell.execute_reply": "2021-11-21T20:21:40.198340Z"
    }
   },
   "outputs": [],
   "source": [
    "def file_contains(target,value,directory):\n",
    "    result = []\n",
    "    for i in os.listdir(directory):\n",
    "        if i.split(\".\")[-1] == \"csv\":\n",
    "            tweets = (csv_tweet(directory, i))\n",
    "            for tweet in tweets:\n",
    "                if getattr(tweet,target) == value:\n",
    "                    result.append(os.path.join(directory, i))\n",
    "                    break\n",
    "        elif i.split(\".\")[-1] == \"json\":\n",
    "            tweets = (json_tweet(directory,i))\n",
    "            for tweet in tweets:\n",
    "                if getattr(tweet,target) == value:\n",
    "                    result.append(os.path.join(directory,i))\n",
    "                    break\n",
    "    return result"
   ]
  },
  {
   "cell_type": "code",
   "execution_count": 26,
   "id": "31fc35b4",
   "metadata": {
    "execution": {
     "iopub.execute_input": "2021-11-21T20:21:40.207310Z",
     "iopub.status.busy": "2021-11-21T20:21:40.206314Z",
     "iopub.status.idle": "2021-11-21T20:21:40.228256Z",
     "shell.execute_reply": "2021-11-21T20:21:40.227262Z"
    }
   },
   "outputs": [
    {
     "data": {
      "text/plain": [
       "['sample_data\\\\2.json']"
      ]
     },
     "execution_count": 1,
     "metadata": {},
     "output_type": "execute_result"
    }
   ],
   "source": [
    "#Q17: Which file in the directory sample_data contains the tweet with tweet_id '1467812723'?\n",
    "\n",
    "file_contains('tweet_id', '1467812723','sample_data')"
   ]
  },
  {
   "cell_type": "code",
   "execution_count": 27,
   "id": "7eed92ab",
   "metadata": {
    "execution": {
     "iopub.execute_input": "2021-11-21T20:21:40.237232Z",
     "iopub.status.busy": "2021-11-21T20:21:40.237232Z",
     "iopub.status.idle": "2021-11-21T20:21:40.259171Z",
     "shell.execute_reply": "2021-11-21T20:21:40.259171Z"
    }
   },
   "outputs": [
    {
     "data": {
      "text/plain": [
       "['full_data\\\\3.csv']"
      ]
     },
     "execution_count": 1,
     "metadata": {},
     "output_type": "execute_result"
    }
   ],
   "source": [
    "#Q18: Which file in the directory full_data contains the tweet with tweet_id '1467916700'?\n",
    "file_contains('tweet_id', '1467916700','full_data')"
   ]
  },
  {
   "cell_type": "code",
   "execution_count": 28,
   "id": "cbc22adc",
   "metadata": {
    "execution": {
     "iopub.execute_input": "2021-11-21T20:21:40.267150Z",
     "iopub.status.busy": "2021-11-21T20:21:40.265155Z",
     "iopub.status.idle": "2021-11-21T20:21:40.291088Z",
     "shell.execute_reply": "2021-11-21T20:21:40.291088Z"
    }
   },
   "outputs": [
    {
     "data": {
      "text/plain": [
       "['full_data\\\\1.csv',\n",
       " 'full_data\\\\2.csv',\n",
       " 'full_data\\\\2.json',\n",
       " 'full_data\\\\3.csv',\n",
       " 'full_data\\\\3.json',\n",
       " 'full_data\\\\4.csv',\n",
       " 'full_data\\\\4.json',\n",
       " 'full_data\\\\5.csv',\n",
       " 'full_data\\\\5.json']"
      ]
     },
     "execution_count": 1,
     "metadata": {},
     "output_type": "execute_result"
    }
   ],
   "source": [
    "#Q19: Which files in the directory full_data contain tweets by the user \"USERID_3\"?\n",
    "file_contains('username','USERID_3','full_data')"
   ]
  },
  {
   "cell_type": "code",
   "execution_count": 29,
   "id": "a99191f5",
   "metadata": {
    "execution": {
     "iopub.execute_input": "2021-11-21T20:21:40.296073Z",
     "iopub.status.busy": "2021-11-21T20:21:40.295076Z",
     "iopub.status.idle": "2021-11-21T20:21:40.307049Z",
     "shell.execute_reply": "2021-11-21T20:21:40.308041Z"
    }
   },
   "outputs": [],
   "source": [
    "#Q20: What are the first 20 tweets present in all the files in the full_data directory and the sample_data directory, sorted by num_liked?\n",
    "#all_data = list(set(tweets_greater_than(0,'full_data')+tweets_greater_than(0,'sample_data')))\n",
    "#sorted(all_data,key = lambda x:x.num_liked,reverse = True)[:20]"
   ]
  }
 ],
 "metadata": {
  "kernelspec": {
   "display_name": "Python 3",
   "language": "python",
   "name": "python3"
  },
  "language_info": {
   "codemirror_mode": {
    "name": "ipython",
    "version": 3
   },
   "file_extension": ".py",
   "mimetype": "text/x-python",
   "name": "python",
   "nbconvert_exporter": "python",
   "pygments_lexer": "ipython3",
   "version": "3.8.8"
  }
 },
 "nbformat": 4,
 "nbformat_minor": 5
}
